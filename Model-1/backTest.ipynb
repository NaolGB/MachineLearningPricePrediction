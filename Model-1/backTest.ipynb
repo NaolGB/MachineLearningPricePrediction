{
 "cells": [
  {
   "cell_type": "code",
   "execution_count": 1,
   "metadata": {},
   "outputs": [],
   "source": [
    "import backTest, modelConstants\n",
    "import tensorflow as tf"
   ]
  },
  {
   "cell_type": "code",
   "execution_count": 2,
   "metadata": {},
   "outputs": [],
   "source": [
    "ticker = modelConstants.ticker\n",
    "stableCoin = modelConstants.stableCoin\n",
    "timeInterval = modelConstants.timeInterval\n",
    "startDate = modelConstants.backTestStartDate\n",
    "endDate = modelConstants.backTestEndDate\n",
    "historicalLength = modelConstants.historicalLength\n",
    "predictionLength = modelConstants.predictionLength"
   ]
  },
  {
   "cell_type": "code",
   "execution_count": 3,
   "metadata": {},
   "outputs": [
    {
     "name": "stdout",
     "output_type": "stream",
     "text": [
      "Metal device set to: Apple M1\n",
      "\n",
      "systemMemory: 8.00 GB\n",
      "maxCacheSize: 2.67 GB\n",
      "\n"
     ]
    },
    {
     "name": "stderr",
     "output_type": "stream",
     "text": [
      "2022-07-18 15:42:17.418484: I tensorflow/core/common_runtime/pluggable_device/pluggable_device_factory.cc:305] Could not identify NUMA node of platform GPU ID 0, defaulting to 0. Your kernel may not have been built with NUMA support.\n",
      "2022-07-18 15:42:17.418816: I tensorflow/core/common_runtime/pluggable_device/pluggable_device_factory.cc:271] Created TensorFlow device (/job:localhost/replica:0/task:0/device:GPU:0 with 0 MB memory) -> physical PluggableDevice (device: 0, name: METAL, pci bus id: <undefined>)\n"
     ]
    }
   ],
   "source": [
    "cnnModelBinary = tf.keras.models.load_model('cnnModelBinary.h5')\n",
    "cnnModelMultiLabel = tf.keras.models.load_model('cnnModelMultiLabel.h5')"
   ]
  },
  {
   "cell_type": "code",
   "execution_count": 4,
   "metadata": {},
   "outputs": [
    {
     "name": "stdout",
     "output_type": "stream",
     "text": [
      "Data fetched and succesfully saved at data/BTCUSDT_1hr_testing_raw.csv\n"
     ]
    }
   ],
   "source": [
    "featuredDf = backTest.generateBackTestingData(\n",
    "    ticker=ticker,\n",
    "    stableCoin=stableCoin,\n",
    "    startDate=startDate,\n",
    "    endDate=endDate,\n",
    "    historicalLength=historicalLength, \n",
    "    predictionLength=predictionLength,\n",
    "    timeInterval=timeInterval,\n",
    ")"
   ]
  },
  {
   "cell_type": "code",
   "execution_count": 5,
   "metadata": {},
   "outputs": [],
   "source": [
    "## How to predict for one row\n",
    "# x = np.expand_dims(featuredDf.iloc[:, :-4].loc[0], axis=0)\n",
    "# cnnModelBinary.predict(x)"
   ]
  },
  {
   "cell_type": "code",
   "execution_count": 6,
   "metadata": {},
   "outputs": [
    {
     "name": "stderr",
     "output_type": "stream",
     "text": [
      "2022-07-18 15:42:29.192642: W tensorflow/core/platform/profile_utils/cpu_utils.cc:128] Failed to get CPU frequency: 0 Hz\n",
      "2022-07-18 15:42:29.344541: I tensorflow/core/grappler/optimizers/custom_graph_optimizer_registry.cc:113] Plugin optimizer for device_type GPU is enabled.\n"
     ]
    },
    {
     "name": "stdout",
     "output_type": "stream",
     "text": [
      "105/105 [==============================] - 1s 10ms/step\n",
      "  6/105 [>.............................] - ETA: 1s "
     ]
    },
    {
     "name": "stderr",
     "output_type": "stream",
     "text": [
      "2022-07-18 15:42:30.697478: I tensorflow/core/grappler/optimizers/custom_graph_optimizer_registry.cc:113] Plugin optimizer for device_type GPU is enabled.\n"
     ]
    },
    {
     "name": "stdout",
     "output_type": "stream",
     "text": [
      "105/105 [==============================] - 1s 10ms/step\n",
      "predictions generated\n"
     ]
    }
   ],
   "source": [
    "featureDf = backTest.predictBianryAndMultilabelOnDataFrame(featureDf=featuredDf, binaryPredictionModel=cnnModelBinary, multiLabelPredictionModel=cnnModelMultiLabel)"
   ]
  },
  {
   "cell_type": "code",
   "execution_count": 7,
   "metadata": {},
   "outputs": [],
   "source": [
    "backtestBinary = backTest.BackTesting(klineDf=featureDf, predictionLength=predictionLength)\n",
    "backtestBinary.runBackTest(predictionType='binary')"
   ]
  },
  {
   "cell_type": "code",
   "execution_count": 8,
   "metadata": {},
   "outputs": [],
   "source": [
    "backtestMultiLabel = backTest.BackTesting(klineDf=featureDf, predictionLength=predictionLength)\n",
    "backtestMultiLabel.runBackTest(predictionType='multiLabel')"
   ]
  },
  {
   "cell_type": "code",
   "execution_count": null,
   "metadata": {},
   "outputs": [],
   "source": [
    "# Now that all data is generated, use Matplotlib OR go to the Tableau file to plot and see the results"
   ]
  }
 ],
 "metadata": {
  "kernelspec": {
   "display_name": "PricePrediction",
   "language": "python",
   "name": "priceprediction"
  },
  "language_info": {
   "codemirror_mode": {
    "name": "ipython",
    "version": 3
   },
   "file_extension": ".py",
   "mimetype": "text/x-python",
   "name": "python",
   "nbconvert_exporter": "python",
   "pygments_lexer": "ipython3",
   "version": "3.8.13"
  },
  "orig_nbformat": 4,
  "vscode": {
   "interpreter": {
    "hash": "b0fa6594d8f4cbf19f97940f81e996739fb7646882a419484c72d19e05852a7e"
   }
  }
 },
 "nbformat": 4,
 "nbformat_minor": 2
}
