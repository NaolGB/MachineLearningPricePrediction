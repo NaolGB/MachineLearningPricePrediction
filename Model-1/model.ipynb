{
 "cells": [
  {
   "cell_type": "code",
   "execution_count": 25,
   "metadata": {},
   "outputs": [],
   "source": [
    "import helperFunctions\n",
    "import pandas as pd\n",
    "import seaborn as sns\n",
    "import tensorflow as tf\n",
    "from keras.layers import Conv1D, MaxPooling1D, Dropout, Flatten, Dense"
   ]
  },
  {
   "cell_type": "code",
   "execution_count": 5,
   "metadata": {},
   "outputs": [],
   "source": [
    "ticker = 'BTC'\n",
    "stableCoin = 'USDT'\n",
    "timeInterval = '1hr'\n",
    "startDate = '01 Jan, 2019'\n",
    "endDate ='01 Jan, 2022'\n",
    "historicalLength = 256\n",
    "predictionLength = 12"
   ]
  },
  {
   "cell_type": "code",
   "execution_count": 2,
   "metadata": {},
   "outputs": [
    {
     "ename": "NameError",
     "evalue": "name 'ticker' is not defined",
     "output_type": "error",
     "traceback": [
      "\u001b[0;31m---------------------------------------------------------------------------\u001b[0m",
      "\u001b[0;31mNameError\u001b[0m                                 Traceback (most recent call last)",
      "\u001b[1;32m/Users/naolbasaye/Desktop/MachineLearningPricePrediction/Model-1/model.ipynb Cell 3\u001b[0m in \u001b[0;36m<cell line: 1>\u001b[0;34m()\u001b[0m\n\u001b[1;32m      <a href='vscode-notebook-cell:/Users/naolbasaye/Desktop/MachineLearningPricePrediction/Model-1/model.ipynb#ch0000001?line=0'>1</a>\u001b[0m rawDf \u001b[39m=\u001b[39m helperFunctions\u001b[39m.\u001b[39mfetchBianceData(\n\u001b[0;32m----> <a href='vscode-notebook-cell:/Users/naolbasaye/Desktop/MachineLearningPricePrediction/Model-1/model.ipynb#ch0000001?line=1'>2</a>\u001b[0m     ticker\u001b[39m=\u001b[39mticker,\n\u001b[1;32m      <a href='vscode-notebook-cell:/Users/naolbasaye/Desktop/MachineLearningPricePrediction/Model-1/model.ipynb#ch0000001?line=2'>3</a>\u001b[0m     timeInterval\u001b[39m=\u001b[39mtimeInterval,\n\u001b[1;32m      <a href='vscode-notebook-cell:/Users/naolbasaye/Desktop/MachineLearningPricePrediction/Model-1/model.ipynb#ch0000001?line=3'>4</a>\u001b[0m     startDate\u001b[39m=\u001b[39mstartDate,\n\u001b[1;32m      <a href='vscode-notebook-cell:/Users/naolbasaye/Desktop/MachineLearningPricePrediction/Model-1/model.ipynb#ch0000001?line=4'>5</a>\u001b[0m     endDate\u001b[39m=\u001b[39mendDate\n\u001b[1;32m      <a href='vscode-notebook-cell:/Users/naolbasaye/Desktop/MachineLearningPricePrediction/Model-1/model.ipynb#ch0000001?line=5'>6</a>\u001b[0m )\n",
      "\u001b[0;31mNameError\u001b[0m: name 'ticker' is not defined"
     ]
    }
   ],
   "source": [
    "rawDf = helperFunctions.fetchBianceData(\n",
    "    ticker=ticker,\n",
    "    timeInterval=timeInterval,\n",
    "    startDate=startDate,\n",
    "    endDate=endDate\n",
    ")"
   ]
  },
  {
   "cell_type": "code",
   "execution_count": 6,
   "metadata": {},
   "outputs": [],
   "source": [
    "featuresDf = helperFunctions.generateFeatures(\n",
    "    ticker = ticker,\n",
    "    stableCoin = stableCoin,\n",
    "    timeInterval = timeInterval,\n",
    "    historicalLength = historicalLength,\n",
    "    predictionLength = predictionLength,\n",
    ")"
   ]
  },
  {
   "cell_type": "code",
   "execution_count": 7,
   "metadata": {},
   "outputs": [
    {
     "data": {
      "text/plain": [
       "<AxesSubplot:xlabel='trendChange', ylabel='Count'>"
      ]
     },
     "execution_count": 7,
     "metadata": {},
     "output_type": "execute_result"
    },
    {
     "data": {
      "image/png": "[encoded data removed]",
      "text/plain": [
       "<Figure size 432x288 with 1 Axes>"
      ]
     },
     "metadata": {
      "needs_background": "light"
     },
     "output_type": "display_data"
    }
   ],
   "source": [
    "sns.histplot(featuresDf['trendChange'])"
   ]
  },
  {
   "cell_type": "code",
   "execution_count": 8,
   "metadata": {},
   "outputs": [
    {
     "data": {
      "text/plain": [
       "count    25979.000000\n",
       "mean         0.142943\n",
       "std          2.181507\n",
       "min        -20.752666\n",
       "25%         -0.724078\n",
       "50%          0.098319\n",
       "75%          1.027294\n",
       "max         19.267021\n",
       "Name: trendChange, dtype: float64"
      ]
     },
     "execution_count": 8,
     "metadata": {},
     "output_type": "execute_result"
    }
   ],
   "source": [
    "featuresDf['trendChange'].describe()"
   ]
  },
  {
   "cell_type": "code",
   "execution_count": 9,
   "metadata": {},
   "outputs": [
    {
     "name": "stdout",
     "output_type": "stream",
     "text": [
      "0: downward trend, 1: up trend\n",
      "0: downward trend, 1: sideways trend, 2: up trend\n"
     ]
    }
   ],
   "source": [
    "trendedDfBinary = helperFunctions.labelDataframeBinary(df=featuresDf, midCut=0, ticker=ticker, stableCoin=stableCoin, timeInterval=timeInterval)\n",
    "trendedDfMultiLabel = helperFunctions.labelDataframeMultilabel(df=featuresDf, lowerCut=-1, upperCut=1, ticker=ticker, stableCoin=stableCoin, timeInterval=timeInterval)"
   ]
  },
  {
   "cell_type": "code",
   "execution_count": 10,
   "metadata": {},
   "outputs": [
    {
     "name": "stderr",
     "output_type": "stream",
     "text": [
      "/Users/naolbasaye/Desktop/MachineLearningPricePrediction/env/lib/python3.8/site-packages/seaborn/_decorators.py:36: FutureWarning: Pass the following variable as a keyword arg: x. From version 0.12, the only valid positional argument will be `data`, and passing other arguments without an explicit keyword will result in an error or misinterpretation.\n",
      "  warnings.warn(\n"
     ]
    },
    {
     "data": {
      "text/plain": [
       "<AxesSubplot:xlabel='label', ylabel='count'>"
      ]
     },
     "execution_count": 10,
     "metadata": {},
     "output_type": "execute_result"
    },
    {
     "data": {
      "image/png": "[encoded data removed]",
      "text/plain": [
       "<Figure size 432x288 with 1 Axes>"
      ]
     },
     "metadata": {
      "needs_background": "light"
     },
     "output_type": "display_data"
    }
   ],
   "source": [
    "sns.countplot(trendedDfBinary['label'])"
   ]
  },
  {
   "cell_type": "code",
   "execution_count": 11,
   "metadata": {},
   "outputs": [
    {
     "name": "stderr",
     "output_type": "stream",
     "text": [
      "/Users/naolbasaye/Desktop/MachineLearningPricePrediction/env/lib/python3.8/site-packages/seaborn/_decorators.py:36: FutureWarning: Pass the following variable as a keyword arg: x. From version 0.12, the only valid positional argument will be `data`, and passing other arguments without an explicit keyword will result in an error or misinterpretation.\n",
      "  warnings.warn(\n"
     ]
    },
    {
     "data": {
      "text/plain": [
       "<AxesSubplot:xlabel='label', ylabel='count'>"
      ]
     },
     "execution_count": 11,
     "metadata": {},
     "output_type": "execute_result"
    },
    {
     "data": {
      "image/png": "[encoded data removed]",
      "text/plain": [
       "<Figure size 432x288 with 1 Axes>"
      ]
     },
     "metadata": {
      "needs_background": "light"
     },
     "output_type": "display_data"
    }
   ],
   "source": [
    "sns.countplot(trendedDfMultiLabel['label'])"
   ]
  },
  {
   "cell_type": "code",
   "execution_count": 12,
   "metadata": {},
   "outputs": [
    {
     "name": "stdout",
     "output_type": "stream",
     "text": [
      "Binary xTrain, yTrain, xTest, yTest saved in data and returned\n"
     ]
    }
   ],
   "source": [
    "xTrainBinary, yTrainBinary, xTestBinary, yTestBinary = helperFunctions.generateTrainTestDatasetBinary(df=trendedDfBinary, ticker=ticker, timeInterval=timeInterval)"
   ]
  },
  {
   "cell_type": "code",
   "execution_count": 13,
   "metadata": {},
   "outputs": [
    {
     "name": "stdout",
     "output_type": "stream",
     "text": [
      "Multi label xTrain, yTrain, xTest, yTest saved in data and returned\n"
     ]
    }
   ],
   "source": [
    "xTrainMultiLabel, yTrainMultiLabel, xTestMultiLabel, yTestMultiLabel = helperFunctions.generateTrainTestDatasetMultiLabel(df=trendedDfMultiLabel, ticker=ticker, timeInterval=timeInterval)"
   ]
  },
  {
   "cell_type": "markdown",
   "metadata": {},
   "source": [
    "Binary"
   ]
  },
  {
   "cell_type": "code",
   "execution_count": 21,
   "metadata": {},
   "outputs": [],
   "source": [
    "epochs = 15\n",
    "cnnModelBinary = tf.keras.Sequential([\n",
    "    Conv1D(filters=32, kernel_size=4, input_shape=(xTrainBinary.shape[1], 1), padding='same', activation='relu'),\n",
    "\n",
    "    Dropout(0.3),\n",
    "    MaxPooling1D(pool_size=2, padding='same'),\n",
    "    Conv1D(filters=64, kernel_size=4, padding='same', activation='relu'),\n",
    "\n",
    "    # Dropout(0.3),\n",
    "    MaxPooling1D(pool_size=2, padding='same'),\n",
    "    Conv1D(filters=128, kernel_size=4, padding='same', activation='relu'),\n",
    "\n",
    "    # Dropout(0.3),\n",
    "    MaxPooling1D(pool_size=2, padding='same'),\n",
    "    Conv1D(filters=256, kernel_size=4, padding='same', activation='relu'),\n",
    "\n",
    "    Dropout(0.3),\n",
    "    MaxPooling1D(pool_size=2, padding='same'),\n",
    "    Conv1D(filters=512, kernel_size=4, activation='relu'),\n",
    "\n",
    "    Flatten(),\n",
    "    Dense(512, activation='relu'),\n",
    "    Dense(256, activation='relu'),\n",
    "    Dense(128, activation='relu'),\n",
    "    Dense(64, activation='relu'),\n",
    "    Dense(32, activation='relu'),\n",
    "    Dense(16, activation='relu'),\n",
    "    Dense(8, activation='relu'),\n",
    "    Dense(yTrainBinary.shape[1], activation='softmax')\n",
    "])\n",
    "\n",
    "cnnModelBinary.compile(\n",
    "    optimizer='adam',\n",
    "    loss='categorical_crossentropy',\n",
    "    metrics=['categorical_accuracy']\n",
    ")"
   ]
  },
  {
   "cell_type": "code",
   "execution_count": 29,
   "metadata": {},
   "outputs": [],
   "source": [
    "cnnModelBinaryHistory = cnnModelBinary.fit(\n",
    "    xTrainBinary, yTrainBinary, validation_split=0.3, epochs=epochs, batch_size=512, verbose=0\n",
    ")"
   ]
  },
  {
   "cell_type": "code",
   "execution_count": 30,
   "metadata": {},
   "outputs": [],
   "source": [
    "cnnModelBinaryHistoryDf = pd.DataFrame(cnnModelBinaryHistory.history)\n",
    "cnnModelBinaryHistoryDf.to_csv(f'data/{ticker}{stableCoin}_{timeInterval}_binary_model_fitting.csv')"
   ]
  },
  {
   "cell_type": "markdown",
   "metadata": {},
   "source": [
    "Multilabel"
   ]
  },
  {
   "cell_type": "code",
   "execution_count": 31,
   "metadata": {},
   "outputs": [],
   "source": [
    "epochs = 15\n",
    "cnnModelMultiLabel = tf.keras.Sequential([\n",
    "    Conv1D(filters=32, kernel_size=4, input_shape=(xTrainMultiLabel.shape[1], 1), padding='same', activation='relu'),\n",
    "\n",
    "    Dropout(0.3),\n",
    "    MaxPooling1D(pool_size=2, padding='same'),\n",
    "    Conv1D(filters=64, kernel_size=4, padding='same', activation='relu'),\n",
    "\n",
    "    # Dropout(0.3),\n",
    "    MaxPooling1D(pool_size=2, padding='same'),\n",
    "    Conv1D(filters=128, kernel_size=4, padding='same', activation='relu'),\n",
    "\n",
    "    # Dropout(0.3),\n",
    "    MaxPooling1D(pool_size=2, padding='same'),\n",
    "    Conv1D(filters=256, kernel_size=4, padding='same', activation='relu'),\n",
    "\n",
    "    Dropout(0.3),\n",
    "    MaxPooling1D(pool_size=2, padding='same'),\n",
    "    Conv1D(filters=512, kernel_size=4, activation='relu'),\n",
    "\n",
    "    Flatten(),\n",
    "    Dense(512, activation='relu'),\n",
    "    Dense(256, activation='relu'),\n",
    "    Dense(128, activation='relu'),\n",
    "    Dense(64, activation='relu'),\n",
    "    Dense(32, activation='relu'),\n",
    "    Dense(16, activation='relu'),\n",
    "    Dense(8, activation='relu'),\n",
    "    Dense(yTrainMultiLabel.shape[1], activation='softmax')\n",
    "])\n",
    "\n",
    "cnnModelMultiLabel.compile(\n",
    "    optimizer='adam',\n",
    "    loss='categorical_crossentropy',\n",
    "    metrics=['categorical_accuracy']\n",
    ")"
   ]
  },
  {
   "cell_type": "code",
   "execution_count": 32,
   "metadata": {},
   "outputs": [
    {
     "name": "stdout",
     "output_type": "stream",
     "text": [
      "Epoch 1/15\n"
     ]
    },
    {
     "name": "stderr",
     "output_type": "stream",
     "text": [
      "2022-07-16 19:30:56.633904: I tensorflow/core/grappler/optimizers/custom_graph_optimizer_registry.cc:113] Plugin optimizer for device_type GPU is enabled.\n",
      "2022-07-16 19:30:59.837862: I tensorflow/core/grappler/optimizers/custom_graph_optimizer_registry.cc:113] Plugin optimizer for device_type GPU is enabled.\n"
     ]
    },
    {
     "name": "stdout",
     "output_type": "stream",
     "text": [
      "25/25 - 4s - loss: 1.0492 - categorical_accuracy: 0.5194 - val_loss: 0.9905 - val_categorical_accuracy: 0.5418 - 4s/epoch - 178ms/step\n",
      "Epoch 2/15\n",
      "25/25 - 3s - loss: 0.9761 - categorical_accuracy: 0.5388 - val_loss: 0.9628 - val_categorical_accuracy: 0.5482 - 3s/epoch - 124ms/step\n",
      "Epoch 3/15\n",
      "25/25 - 3s - loss: 0.9610 - categorical_accuracy: 0.5499 - val_loss: 0.9545 - val_categorical_accuracy: 0.5499 - 3s/epoch - 116ms/step\n",
      "Epoch 4/15\n",
      "25/25 - 3s - loss: 0.9440 - categorical_accuracy: 0.5565 - val_loss: 0.9422 - val_categorical_accuracy: 0.5574 - 3s/epoch - 119ms/step\n",
      "Epoch 5/15\n",
      "25/25 - 3s - loss: 0.9348 - categorical_accuracy: 0.5648 - val_loss: 0.9340 - val_categorical_accuracy: 0.5651 - 3s/epoch - 129ms/step\n",
      "Epoch 6/15\n",
      "25/25 - 3s - loss: 0.9114 - categorical_accuracy: 0.5812 - val_loss: 0.8978 - val_categorical_accuracy: 0.5889 - 3s/epoch - 118ms/step\n",
      "Epoch 7/15\n",
      "25/25 - 3s - loss: 0.8814 - categorical_accuracy: 0.6056 - val_loss: 0.8647 - val_categorical_accuracy: 0.6321 - 3s/epoch - 112ms/step\n",
      "Epoch 8/15\n",
      "25/25 - 3s - loss: 0.8419 - categorical_accuracy: 0.6360 - val_loss: 0.8477 - val_categorical_accuracy: 0.6501 - 3s/epoch - 112ms/step\n",
      "Epoch 9/15\n",
      "25/25 - 3s - loss: 0.7931 - categorical_accuracy: 0.6583 - val_loss: 0.7853 - val_categorical_accuracy: 0.6556 - 3s/epoch - 112ms/step\n",
      "Epoch 10/15\n",
      "25/25 - 3s - loss: 0.7269 - categorical_accuracy: 0.6953 - val_loss: 0.7381 - val_categorical_accuracy: 0.6846 - 3s/epoch - 112ms/step\n",
      "Epoch 11/15\n",
      "25/25 - 3s - loss: 0.6576 - categorical_accuracy: 0.7283 - val_loss: 0.6924 - val_categorical_accuracy: 0.7199 - 3s/epoch - 112ms/step\n",
      "Epoch 12/15\n",
      "25/25 - 3s - loss: 0.5580 - categorical_accuracy: 0.7748 - val_loss: 0.5827 - val_categorical_accuracy: 0.7676 - 3s/epoch - 112ms/step\n",
      "Epoch 13/15\n",
      "25/25 - 3s - loss: 0.4615 - categorical_accuracy: 0.8190 - val_loss: 0.4856 - val_categorical_accuracy: 0.8152 - 3s/epoch - 112ms/step\n",
      "Epoch 14/15\n",
      "25/25 - 3s - loss: 0.3657 - categorical_accuracy: 0.8572 - val_loss: 0.4402 - val_categorical_accuracy: 0.8303 - 3s/epoch - 112ms/step\n",
      "Epoch 15/15\n",
      "25/25 - 3s - loss: 0.2874 - categorical_accuracy: 0.8925 - val_loss: 0.4049 - val_categorical_accuracy: 0.8497 - 3s/epoch - 112ms/step\n"
     ]
    }
   ],
   "source": [
    "cnnModelMultiLabelHistory = cnnModelMultiLabel.fit(\n",
    "    xTrainMultiLabel, yTrainMultiLabel, validation_split=0.3, epochs=epochs, batch_size=512, verbose=1\n",
    ")"
   ]
  },
  {
   "cell_type": "code",
   "execution_count": 34,
   "metadata": {},
   "outputs": [],
   "source": [
    "cnnModelMultiLabelHistoryDf = pd.DataFrame(cnnModelMultiLabelHistory.history)\n",
    "cnnModelMultiLabelHistoryDf.to_csv(f'data/{ticker}{stableCoin}_{timeInterval}_multi_label_model_fitting.csv')"
   ]
  },
  {
   "cell_type": "code",
   "execution_count": null,
   "metadata": {},
   "outputs": [],
   "source": []
  }
 ],
 "metadata": {
  "kernelspec": {
   "display_name": "PricePrediction",
   "language": "python",
   "name": "priceprediction"
  },
  "language_info": {
   "codemirror_mode": {
    "name": "ipython",
    "version": 3
   },
   "file_extension": ".py",
   "mimetype": "text/x-python",
   "name": "python",
   "nbconvert_exporter": "python",
   "pygments_lexer": "ipython3",
   "version": "3.8.13"
  },
  "orig_nbformat": 4
 },
 "nbformat": 4,
 "nbformat_minor": 2
}
